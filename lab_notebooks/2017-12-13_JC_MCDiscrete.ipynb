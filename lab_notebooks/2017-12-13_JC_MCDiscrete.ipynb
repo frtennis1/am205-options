{
 "cells": [
  {
   "cell_type": "code",
   "execution_count": 2,
   "metadata": {},
   "outputs": [],
   "source": [
    "import numpy as np\n",
    "from tqdm import tqdm_notebook as tqdm\n",
    "from matplotlib import pyplot as plt\n",
    "%matplotlib inline"
   ]
  },
  {
   "cell_type": "code",
   "execution_count": 3,
   "metadata": {},
   "outputs": [],
   "source": [
    "def sample_end_price(S0, local_vol_f, duration, n_intervals, n_samples):\n",
    "    \"\"\"\n",
    "    Draw samples from the end price of an asset diffusion.\n",
    "    \n",
    "    Inputs\n",
    "    ------\n",
    "    S0 : float\n",
    "        The initial spot price of the underlying at time t=0\n",
    "        \n",
    "    local_vol_f : float -> float (vectorized)\n",
    "        The local volatility at a given spot price (assumed constant over time)\n",
    "        \n",
    "    duration : float\n",
    "        The time to expiry, i.e. T.\n",
    "    \n",
    "    n_intervals : float\n",
    "        Number of intervals into which to break up the numerical simulation\n",
    "    \n",
    "    n_samples : int\n",
    "        Number of simulations to run\n",
    "        \n",
    "    Output\n",
    "    -----\n",
    "    S : NumPy float vector of length n_samples\n",
    "        The ending spot prices of the asset diffusion for each simulation\n",
    "    \"\"\"\n",
    "    dt = duration / n_intervals\n",
    "    S = S0\n",
    "    Z = np.sqrt(dt) * np.random.randn(n_samples, n_intervals)\n",
    "    for i in (range(n_intervals)):\n",
    "        #time = i / duration\n",
    "        local_vols = local_vol_f(S) # , time)\n",
    "#         growth_factor = np.exp(local_vols * np.random.randn(n_samples) * scaling_factor\n",
    "#                               - dt * local_vols**2/2)\n",
    "        S = S +  S * local_vols * Z[:, i] # np.random.randn(n_samples)\n",
    "    return S"
   ]
  },
  {
   "cell_type": "code",
   "execution_count": 4,
   "metadata": {},
   "outputs": [
    {
     "data": {
      "text/plain": [
       "[<matplotlib.lines.Line2D at 0x114d60f98>]"
      ]
     },
     "execution_count": 4,
     "metadata": {},
     "output_type": "execute_result"
    },
    {
     "data": {
      "image/png": "[encoded data removed]",
      "text/plain": [
       "<matplotlib.figure.Figure at 0x114b9f588>"
      ]
     },
     "metadata": {},
     "output_type": "display_data"
    }
   ],
   "source": [
    "S0 = 1\n",
    "K = 1.1\n",
    "local_vol_f = lambda px :  np.clip(0.1 + (px-1)**2, 0, .5)\n",
    "T = 1\n",
    "n_samples = int(1e6)\n",
    "# n_intervals = int(1e3)\n",
    "plt.plot(np.linspace(0,2,100), local_vol_f(np.linspace(0,2,100)))"
   ]
  },
  {
   "cell_type": "code",
   "execution_count": 5,
   "metadata": {},
   "outputs": [],
   "source": [
    "accur = sample_end_price(S0, local_vol_f, T, 200, n_samples)"
   ]
  },
  {
   "cell_type": "code",
   "execution_count": 6,
   "metadata": {},
   "outputs": [],
   "source": [
    "p = accur[accur >= K].sum()/len(accur)"
   ]
  },
  {
   "cell_type": "code",
   "execution_count": 460,
   "metadata": {},
   "outputs": [
    {
     "data": {
      "text/plain": [
       "0.17719359302825333"
      ]
     },
     "execution_count": 460,
     "metadata": {},
     "output_type": "execute_result"
    }
   ],
   "source": [
    "p"
   ]
  },
  {
   "cell_type": "code",
   "execution_count": 7,
   "metadata": {},
   "outputs": [
    {
     "data": {
      "application/vnd.jupyter.widget-view+json": {
       "model_id": "81b3cb698df1428380e215784043f596",
       "version_major": 2,
       "version_minor": 0
      },
      "text/plain": [
       "A Jupyter Widget"
      ]
     },
     "metadata": {},
     "output_type": "display_data"
    },
    {
     "name": "stdout",
     "output_type": "stream",
     "text": [
      "\n"
     ]
    }
   ],
   "source": [
    "dts = []\n",
    "trials = []\n",
    "for n_intervals in tqdm(range(1,41)):\n",
    "    # n_intervals = int(np.exp(logn))\n",
    "    dts.append(T/n_intervals)\n",
    "    sample = sample_end_price(S0, local_vol_f, T, n_intervals, n_samples)\n",
    "    trials.append(sample[sample >= K].sum()/len(sample));"
   ]
  },
  {
   "cell_type": "code",
   "execution_count": 8,
   "metadata": {},
   "outputs": [],
   "source": [
    "import seaborn as sns"
   ]
  },
  {
   "cell_type": "code",
   "execution_count": 426,
   "metadata": {},
   "outputs": [
    {
     "data": {
      "text/plain": [
       "0.20328529542867585"
      ]
     },
     "execution_count": 426,
     "metadata": {},
     "output_type": "execute_result"
    }
   ],
   "source": [
    "p"
   ]
  },
  {
   "cell_type": "code",
   "execution_count": 12,
   "metadata": {},
   "outputs": [
    {
     "data": {
      "image/png": "[encoded data removed]",
      "text/plain": [
       "<matplotlib.figure.Figure at 0x126762128>"
      ]
     },
     "metadata": {},
     "output_type": "display_data"
    }
   ],
   "source": [
    "sns.set_style('white')\n",
    "sns.set_context('paper')\n",
    "plt.figure(figsize=(5,5/1.618))\n",
    "plt.plot(dts, np.abs(np.array(trials)-p), 'o', label='Errors')\n",
    "plt.plot(np.array([1e-2, 1e0]), np.array([1e-4, 1e-2]) * 10,'--', label='Reference line with slope 1 in log-space')\n",
    "plt.xscale('log')\n",
    "plt.yscale('log')\n",
    "plt.xlabel('$\\Delta t$');\n",
    "plt.ylabel('Pricing Error');\n",
    "plt.legend();\n",
    "sns.despine()\n",
    "plt.savefig('report/figs/montecarlo_discrete.eps')"
   ]
  },
  {
   "cell_type": "code",
   "execution_count": 423,
   "metadata": {},
   "outputs": [
    {
     "data": {
      "text/plain": [
       "array([ 0.21237069,  0.21386653,  0.21197684,  0.21028285,  0.20907453,\n",
       "        0.20897672,  0.20836207,  0.20720546,  0.20778648,  0.20678499,\n",
       "        0.20703096,  0.2063565 ,  0.20625512,  0.20559247,  0.20630843,\n",
       "        0.20628071,  0.20564321,  0.20613252,  0.20552038,  0.20574489,\n",
       "        0.20614688,  0.20602304,  0.20523183,  0.20534284,  0.20586758,\n",
       "        0.20606518,  0.20488459,  0.20585423,  0.20600833,  0.20547136,\n",
       "        0.20534554,  0.20446891,  0.20541221,  0.20499206,  0.20452453,\n",
       "        0.20524416,  0.20509342,  0.20520035,  0.20518928,  0.20518841,\n",
       "        0.20495452,  0.20394874,  0.20496454,  0.20491256,  0.20520739,\n",
       "        0.20504088,  0.20472318,  0.20480848,  0.2050446 ,  0.20521906])"
      ]
     },
     "execution_count": 423,
     "metadata": {},
     "output_type": "execute_result"
    }
   ],
   "source": [
    "np.array(trials)"
   ]
  },
  {
   "cell_type": "code",
   "execution_count": 370,
   "metadata": {},
   "outputs": [],
   "source": [
    "import pandas as pd\n",
    "import statsmodels.formula.api as smf"
   ]
  },
  {
   "cell_type": "code",
   "execution_count": 442,
   "metadata": {},
   "outputs": [
    {
     "data": {
      "text/html": [
       "<table class=\"simpletable\">\n",
       "<tr>\n",
       "        <td>Model:</td>               <td>OLS</td>         <td>Adj. R-squared:</td>     <td>0.617</td> \n",
       "</tr>\n",
       "<tr>\n",
       "  <td>Dependent Variable:</td>   <td>np.log(errs)</td>          <td>AIC:</td>          <td>90.2404</td>\n",
       "</tr>\n",
       "<tr>\n",
       "         <td>Date:</td>        <td>2017-12-13 16:23</td>        <td>BIC:</td>          <td>93.6181</td>\n",
       "</tr>\n",
       "<tr>\n",
       "   <td>No. Observations:</td>         <td>40</td>          <td>Log-Likelihood:</td>    <td>-43.120</td>\n",
       "</tr>\n",
       "<tr>\n",
       "       <td>Df Model:</td>              <td>1</td>           <td>F-statistic:</td>       <td>63.93</td> \n",
       "</tr>\n",
       "<tr>\n",
       "     <td>Df Residuals:</td>           <td>38</td>        <td>Prob (F-statistic):</td> <td>1.15e-09</td>\n",
       "</tr>\n",
       "<tr>\n",
       "      <td>R-squared:</td>            <td>0.627</td>            <td>Scale:</td>         <td>0.53229</td>\n",
       "</tr>\n",
       "</table>\n",
       "<table class=\"simpletable\">\n",
       "<tr>\n",
       "       <td></td>       <th>Coef.</th>  <th>Std.Err.</th>     <th>t</th>     <th>P>|t|</th> <th>[0.025</th>  <th>0.975]</th> \n",
       "</tr>\n",
       "<tr>\n",
       "  <th>Intercept</th>  <td>-4.0564</td>  <td>0.3865</td>  <td>-10.4944</td> <td>0.0000</td> <td>-4.8389</td> <td>-3.2739</td>\n",
       "</tr>\n",
       "<tr>\n",
       "  <th>np.log(dt)</th> <td>1.0695</td>   <td>0.1338</td>   <td>7.9956</td>  <td>0.0000</td> <td>0.7987</td>  <td>1.3403</td> \n",
       "</tr>\n",
       "</table>\n",
       "<table class=\"simpletable\">\n",
       "<tr>\n",
       "     <td>Omnibus:</td>    <td>17.858</td>  <td>Durbin-Watson:</td>    <td>2.358</td>\n",
       "</tr>\n",
       "<tr>\n",
       "  <td>Prob(Omnibus):</td>  <td>0.000</td> <td>Jarque-Bera (JB):</td> <td>21.820</td>\n",
       "</tr>\n",
       "<tr>\n",
       "       <td>Skew:</td>     <td>-1.466</td>     <td>Prob(JB):</td>      <td>0.000</td>\n",
       "</tr>\n",
       "<tr>\n",
       "     <td>Kurtosis:</td>    <td>5.120</td>  <td>Condition No.:</td>     <td>11</td>  \n",
       "</tr>\n",
       "</table>"
      ],
      "text/plain": [
       "<class 'statsmodels.iolib.summary2.Summary'>\n",
       "\"\"\"\n",
       "                 Results: Ordinary least squares\n",
       "=================================================================\n",
       "Model:              OLS              Adj. R-squared:     0.617   \n",
       "Dependent Variable: np.log(errs)     AIC:                90.2404 \n",
       "Date:               2017-12-13 16:23 BIC:                93.6181 \n",
       "No. Observations:   40               Log-Likelihood:     -43.120 \n",
       "Df Model:           1                F-statistic:        63.93   \n",
       "Df Residuals:       38               Prob (F-statistic): 1.15e-09\n",
       "R-squared:          0.627            Scale:              0.53229 \n",
       "------------------------------------------------------------------\n",
       "              Coef.   Std.Err.     t      P>|t|    [0.025   0.975]\n",
       "------------------------------------------------------------------\n",
       "Intercept    -4.0564    0.3865  -10.4944  0.0000  -4.8389  -3.2739\n",
       "np.log(dt)    1.0695    0.1338    7.9956  0.0000   0.7987   1.3403\n",
       "-----------------------------------------------------------------\n",
       "Omnibus:              17.858       Durbin-Watson:          2.358 \n",
       "Prob(Omnibus):        0.000        Jarque-Bera (JB):       21.820\n",
       "Skew:                 -1.466       Prob(JB):               0.000 \n",
       "Kurtosis:             5.120        Condition No.:          11    \n",
       "=================================================================\n",
       "\n",
       "\"\"\""
      ]
     },
     "execution_count": 442,
     "metadata": {},
     "output_type": "execute_result"
    }
   ],
   "source": [
    "df = pd.DataFrame({'dt' : dts, 'errs' : np.abs(np.array(trials) - p)})\n",
    "smf.ols('np.log(errs)~np.log(dt)',data=df).fit().summary2()"
   ]
  },
  {
   "cell_type": "code",
   "execution_count": 443,
   "metadata": {},
   "outputs": [
    {
     "data": {
      "text/plain": [
       "(-1.7719905484707779,\n",
       " 0.16993055714281513,\n",
       " -4.4883095604538461,\n",
       " -1.1556894782999108)"
      ]
     },
     "execution_count": 443,
     "metadata": {},
     "output_type": "execute_result"
    },
    {
     "data": {
      "image/png": "[encoded data removed]",
      "text/plain": [
       "<matplotlib.figure.Figure at 0x11647b470>"
      ]
     },
     "metadata": {},
     "output_type": "display_data"
    }
   ],
   "source": [
    "plt.figure(figsize=(5,5))\n",
    "sns.regplot(x=np.log10(df['dt']), y=np.log10(df['errs']))\n",
    "plt.axis('equal')"
   ]
  },
  {
   "cell_type": "code",
   "execution_count": null,
   "metadata": {},
   "outputs": [],
   "source": []
  }
 ],
 "metadata": {
  "kernelspec": {
   "display_name": "Python 3",
   "language": "python",
   "name": "python3"
  },
  "language_info": {
   "codemirror_mode": {
    "name": "ipython",
    "version": 3
   },
   "file_extension": ".py",
   "mimetype": "text/x-python",
   "name": "python",
   "nbconvert_exporter": "python",
   "pygments_lexer": "ipython3",
   "version": "3.6.3"
  }
 },
 "nbformat": 4,
 "nbformat_minor": 2
}
