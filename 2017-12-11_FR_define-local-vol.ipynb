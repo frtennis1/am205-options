{
 "cells": [
  {
   "cell_type": "code",
   "execution_count": 138,
   "metadata": {},
   "outputs": [],
   "source": [
    "import numpy as np\n",
    "import datetime\n",
    "\n",
    "import matplotlib.pyplot as plt\n",
    "import seaborn.apionly as sns\n",
    "\n",
    "plt.style.use('clean')\n",
    "\n",
    "%matplotlib inline\n",
    "%config InlineBackend.figure_format = 'retina'"
   ]
  },
  {
   "cell_type": "code",
   "execution_count": 127,
   "metadata": {},
   "outputs": [],
   "source": [
    "class InterpolatedLocalVol:\n",
    "    \n",
    "    def __init__(self, point_estimates, dates, strikes):\n",
    "        self.point_estimates = point_estimates\n",
    "        self.dates = np.array(dates)\n",
    "        self.strikes = np.array(strikes)\n",
    "        \n",
    "    \n",
    "    def get_box(self, date, strike):\n",
    "        if (date < self.dates[0] or \n",
    "                date > self.dates[-1] or \n",
    "                strike < self.strikes[0] or\n",
    "                strike > self.strikes[-1]):\n",
    "            return np.nan\n",
    "        i = np.argmax(self.dates > date)\n",
    "        j = np.argmax(self.strikes > strike)\n",
    "        \n",
    "        if date == self.dates[-1]:\n",
    "            i = len(self.dates)-1\n",
    "        if strike == self.strikes[-1]:\n",
    "            j = len(self.strikes)-1\n",
    "        return i, j, self.point_estimates[max(0,i-1):i+1,\n",
    "                                          max(0,j-1):j+1]\n",
    "    \n",
    "    def __call__(self, date, strike):\n",
    "        i, j, box = self.get_box(date, strike)\n",
    "        date_weights = np.array([(self.dates[i] - date).days,\n",
    "                                 (date - self.dates[i-1]).days]) \\\n",
    "                        .astype(float)\n",
    "        date_weights /= date_weights.sum()\n",
    "        strike_weights = np.array([self.strikes[j] - strike,\n",
    "                                    strike - self.strikes[j-1]]) \\\n",
    "                        .astype(float)\n",
    "        strike_weights /= strike_weights.sum()\n",
    "        return np.dot(np.dot(box, strike_weights), date_weights)"
   ]
  },
  {
   "cell_type": "code",
   "execution_count": 4,
   "metadata": {},
   "outputs": [],
   "source": [
    "box = InterpolatedLocalVol()"
   ]
  },
  {
   "cell_type": "code",
   "execution_count": 132,
   "metadata": {},
   "outputs": [],
   "source": [
    "test_points = np.arange(9).reshape((3,3))\n",
    "test_dates = [datetime.date(2017,1,1), \n",
    "              datetime.date(2017,2,1),\n",
    "              datetime.date(2017,4,1)\n",
    "             ]\n",
    "test_strikes = [103, 105, 109]"
   ]
  },
  {
   "cell_type": "code",
   "execution_count": 133,
   "metadata": {},
   "outputs": [],
   "source": [
    "f = InterpolatedLocalVol(test_points, test_dates, test_strikes)"
   ]
  },
  {
   "cell_type": "code",
   "execution_count": 134,
   "metadata": {},
   "outputs": [
    {
     "data": {
      "text/plain": [
       "array([datetime.date(2017, 1, 1), datetime.date(2017, 2, 1),\n",
       "       datetime.date(2017, 4, 1)], dtype=object)"
      ]
     },
     "execution_count": 134,
     "metadata": {},
     "output_type": "execute_result"
    }
   ],
   "source": [
    "f.dates"
   ]
  },
  {
   "cell_type": "code",
   "execution_count": 135,
   "metadata": {},
   "outputs": [
    {
     "data": {
      "text/plain": [
       "array([103, 105, 109])"
      ]
     },
     "execution_count": 135,
     "metadata": {},
     "output_type": "execute_result"
    }
   ],
   "source": [
    "f.strikes"
   ]
  },
  {
   "cell_type": "code",
   "execution_count": 137,
   "metadata": {},
   "outputs": [
    {
     "data": {
      "text/plain": [
       "array([[0, 1, 2],\n",
       "       [3, 4, 5],\n",
       "       [6, 7, 8]])"
      ]
     },
     "execution_count": 137,
     "metadata": {},
     "output_type": "execute_result"
    }
   ],
   "source": [
    "f.point_estimates"
   ]
  },
  {
   "cell_type": "code",
   "execution_count": 136,
   "metadata": {},
   "outputs": [
    {
     "name": "stdout",
     "output_type": "stream",
     "text": [
      "36.3 µs ± 1.95 µs per loop (mean ± std. dev. of 7 runs, 10000 loops each)\n"
     ]
    }
   ],
   "source": [
    "%timeit f(datetime.date(2017,4,1), 108)"
   ]
  }
 ],
 "metadata": {
  "kernelspec": {
   "display_name": "Python 3",
   "language": "python",
   "name": "python3"
  },
  "language_info": {
   "codemirror_mode": {
    "name": "ipython",
    "version": 3
   },
   "file_extension": ".py",
   "mimetype": "text/x-python",
   "name": "python",
   "nbconvert_exporter": "python",
   "pygments_lexer": "ipython3",
   "version": "3.6.1"
  }
 },
 "nbformat": 4,
 "nbformat_minor": 2
}
