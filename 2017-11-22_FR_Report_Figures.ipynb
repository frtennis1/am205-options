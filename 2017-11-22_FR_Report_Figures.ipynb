{
 "cells": [
  {
   "cell_type": "markdown",
   "metadata": {},
   "source": [
    "# Report Figures"
   ]
  },
  {
   "cell_type": "code",
   "execution_count": 22,
   "metadata": {},
   "outputs": [],
   "source": [
    "import numpy as np\n",
    "import pandas as pd\n",
    "\n",
    "import matplotlib.pyplot as plt\n",
    "import seaborn as sns\n",
    "\n",
    "sns.set_style('white')\n",
    "sns.set_context('paper')\n",
    "\n",
    "%matplotlib inline"
   ]
  },
  {
   "cell_type": "code",
   "execution_count": 35,
   "metadata": {},
   "outputs": [
    {
     "data": {
      "image/png": "[encoded data removed]",
      "text/plain": [
       "<matplotlib.figure.Figure at 0x11b60f8d0>"
      ]
     },
     "metadata": {},
     "output_type": "display_data"
    }
   ],
   "source": [
    "K = 100\n",
    "plt.figure(figsize=(3,4/1.618))\n",
    "x = np.linspace(0, 150, 100)\n",
    "\n",
    "plt.plot(x, np.clip(x-K, 0, np.inf))\n",
    "plt.ylabel('Value of Option')\n",
    "plt.xlabel('$S_T$')\n",
    "plt.title('Value of Call Option Held to Expiry')\n",
    "plt.xticks([K,], ['$K$',])\n",
    "plt.yticks([0,])\n",
    "plt.tight_layout()\n",
    "sns.despine()\n",
    "plt.savefig('report/figs/calloptpayoff.eps')"
   ]
  },
  {
   "cell_type": "code",
   "execution_count": 34,
   "metadata": {},
   "outputs": [
    {
     "data": {
      "image/png": "[encoded data removed]",
      "text/plain": [
       "<matplotlib.figure.Figure at 0x11b653dd8>"
      ]
     },
     "metadata": {},
     "output_type": "display_data"
    }
   ],
   "source": [
    "K = 50\n",
    "plt.figure(figsize=(3,4/1.618))\n",
    "x = np.linspace(0, 150, 100)\n",
    "\n",
    "plt.plot(x, np.clip(K-x, 0, np.inf))\n",
    "plt.ylabel('Value of Option')\n",
    "plt.xlabel('$S_T$')\n",
    "plt.title('Value of Put Option Held to Expiry')\n",
    "plt.xticks([K,], ['$K$',])\n",
    "plt.yticks([0,K], [0, '$K$'])\n",
    "plt.tight_layout()\n",
    "sns.despine()\n",
    "plt.savefig('report/figs/putoptpayoff.eps')"
   ]
  },
  {
   "cell_type": "code",
   "execution_count": null,
   "metadata": {},
   "outputs": [],
   "source": []
  }
 ],
 "metadata": {
  "kernelspec": {
   "display_name": "Python 3",
   "language": "python",
   "name": "python3"
  },
  "language_info": {
   "codemirror_mode": {
    "name": "ipython",
    "version": 3
   },
   "file_extension": ".py",
   "mimetype": "text/x-python",
   "name": "python",
   "nbconvert_exporter": "python",
   "pygments_lexer": "ipython3",
   "version": "3.6.1"
  }
 },
 "nbformat": 4,
 "nbformat_minor": 2
}
