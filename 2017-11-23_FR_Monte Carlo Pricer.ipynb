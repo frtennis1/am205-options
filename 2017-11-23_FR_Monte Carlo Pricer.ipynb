{
 "cells": [
  {
   "cell_type": "code",
   "execution_count": 23,
   "metadata": {},
   "outputs": [],
   "source": [
    "import numpy as np\n",
    "\n",
    "import matplotlib.pyplot as plt\n",
    "\n",
    "%matplotlib inline"
   ]
  },
  {
   "cell_type": "code",
   "execution_count": 28,
   "metadata": {},
   "outputs": [],
   "source": [
    "def sample_end_price(S0, local_vol_f, duration, n_intervals, n_samples):\n",
    "    \"\"\"\n",
    "    Inputs\n",
    "    ------\n",
    "    S0 : float\n",
    "        The initial spot price of the asset at time t=0\n",
    "        \n",
    "    local_vol_f : float -> float (vectorized)\n",
    "        The local volatility at a given spot price (assumed constant over time)\n",
    "        \n",
    "    duration : float\n",
    "        The time to expiry, i.e. T.\n",
    "    \n",
    "    n_intervals : float\n",
    "        Number of intervals into which to break up the numerical simulation\n",
    "    \n",
    "    n_samples : int\n",
    "        Number of simulations to run\n",
    "        \n",
    "    Output\n",
    "    -----\n",
    "    S : NumPy float vector of length n_samples\n",
    "        The ending spot prices of the asset diffusion for each simulation\n",
    "    \"\"\"\n",
    "    scaling_factor = duration / np.sqrt(n_intervals)\n",
    "    S = np.zeros((n_samples, n_intervals+1))\n",
    "    S[:,0] = S0\n",
    "    for i in range(1,n_intervals+1):\n",
    "        local_vols = local_vol_f(S[:,i-1])\n",
    "        growth_factor = np.exp(local_vols * np.random.randn(n_samples) * scaling_factor)\n",
    "        S[:,i] = S[:,i-1] * growth_factor\n",
    "    return S[:,-1]"
   ]
  },
  {
   "cell_type": "code",
   "execution_count": 2,
   "metadata": {},
   "outputs": [
    {
     "data": {
      "text/plain": [
       "array([-0.2895081 ,  2.19170653, -0.78997321,  1.26051486, -0.92730539,\n",
       "        1.29764328, -0.58000733,  1.24609981,  0.15484157, -0.48437455])"
      ]
     },
     "execution_count": 2,
     "metadata": {},
     "output_type": "execute_result"
    }
   ],
   "source": [
    "np.random.randn(10)"
   ]
  },
  {
   "cell_type": "code",
   "execution_count": 27,
   "metadata": {},
   "outputs": [
    {
     "name": "stdout",
     "output_type": "stream",
     "text": [
      "1.69 s ± 142 ms per loop (mean ± std. dev. of 7 runs, 1 loop each)\n"
     ]
    }
   ],
   "source": [
    "%timeit sample_end_price(100, lambda x: .16, 1, 252, 100000)"
   ]
  },
  {
   "cell_type": "code",
   "execution_count": 25,
   "metadata": {},
   "outputs": [
    {
     "data": {
      "text/plain": [
       "(array([  5.49000000e+02,   8.78900000e+03,   3.00610000e+04,\n",
       "          3.41180000e+04,   1.85610000e+04,   6.09100000e+03,\n",
       "          1.49700000e+03,   2.85000000e+02,   3.90000000e+01,\n",
       "          1.00000000e+01]),\n",
       " array([  51.42065093,   66.21541365,   81.01017638,   95.80493911,\n",
       "         110.59970184,  125.39446457,  140.1892273 ,  154.98399003,\n",
       "         169.77875276,  184.57351548,  199.36827821]),\n",
       " <a list of 10 Patch objects>)"
      ]
     },
     "execution_count": 25,
     "metadata": {},
     "output_type": "execute_result"
    },
    {
     "data": {
      "image/png": "[encoded data removed]",
      "text/plain": [
       "<matplotlib.figure.Figure at 0x107e23780>"
      ]
     },
     "metadata": {},
     "output_type": "display_data"
    }
   ],
   "source": [
    "plt.hist(100*np.random.lognormal(sigma=.16, size=100000))"
   ]
  },
  {
   "cell_type": "code",
   "execution_count": null,
   "metadata": {},
   "outputs": [],
   "source": []
  }
 ],
 "metadata": {
  "kernelspec": {
   "display_name": "Python 3",
   "language": "python",
   "name": "python3"
  },
  "language_info": {
   "codemirror_mode": {
    "name": "ipython",
    "version": 3
   },
   "file_extension": ".py",
   "mimetype": "text/x-python",
   "name": "python",
   "nbconvert_exporter": "python",
   "pygments_lexer": "ipython3",
   "version": "3.6.1"
  }
 },
 "nbformat": 4,
 "nbformat_minor": 2
}
